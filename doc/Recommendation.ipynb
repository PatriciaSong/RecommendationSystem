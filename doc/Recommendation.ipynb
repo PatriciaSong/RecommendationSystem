{
 "cells": [
  {
   "cell_type": "markdown",
   "id": "6817a57f",
   "metadata": {},
   "source": [
    "# Movie Recommedation System\n",
    "#### Peixuan Song - Group 9"
   ]
  },
  {
   "cell_type": "markdown",
   "id": "cc372749",
   "metadata": {},
   "source": [
    "## Dataset\n",
    "\n",
    "MovieLens Latest Datasets(ml-latest-small) dataset from [MovieLens](https://grouplens.org/datasets/movielens/)\n",
    "\n",
    "The dataset contains 100,836 5-star based ratings for 9,742 movies given by 610 users. \n",
    "These data were created between March 29, 1996 and September 24, 2018."
   ]
  },
  {
   "cell_type": "code",
   "execution_count": 1,
   "id": "9da6ec8f",
   "metadata": {},
   "outputs": [],
   "source": [
    "import pandas as pd\n",
    "import os\n",
    "import numpy as np\n",
    "import matplotlib.pyplot as plt\n",
    "#import seaborn as sns"
   ]
  },
  {
   "cell_type": "code",
   "execution_count": 4,
   "id": "7d9e131e",
   "metadata": {
    "scrolled": true
   },
   "outputs": [],
   "source": [
    "#100,000 ratings and 3,600 tag applications applied to 9,000 movies by 600 users.\n",
    "#links=pd.read_csv('data/links.csv')\n",
    "#tags=pd.read_csv('data/tags.csv')\n",
    "ratings=pd.read_csv('.././data/ratings.csv')\n",
    "movies=pd.read_csv('.././data/movies.csv')"
   ]
  },
  {
   "cell_type": "code",
   "execution_count": 5,
   "id": "d6ef720d",
   "metadata": {},
   "outputs": [
    {
     "data": {
      "text/html": [
       "<div>\n",
       "<style scoped>\n",
       "    .dataframe tbody tr th:only-of-type {\n",
       "        vertical-align: middle;\n",
       "    }\n",
       "\n",
       "    .dataframe tbody tr th {\n",
       "        vertical-align: top;\n",
       "    }\n",
       "\n",
       "    .dataframe thead th {\n",
       "        text-align: right;\n",
       "    }\n",
       "</style>\n",
       "<table border=\"1\" class=\"dataframe\">\n",
       "  <thead>\n",
       "    <tr style=\"text-align: right;\">\n",
       "      <th></th>\n",
       "      <th>userId</th>\n",
       "      <th>movieId</th>\n",
       "      <th>rating</th>\n",
       "      <th>timestamp</th>\n",
       "    </tr>\n",
       "  </thead>\n",
       "  <tbody>\n",
       "    <tr>\n",
       "      <th>0</th>\n",
       "      <td>1</td>\n",
       "      <td>1</td>\n",
       "      <td>4.0</td>\n",
       "      <td>964982703</td>\n",
       "    </tr>\n",
       "    <tr>\n",
       "      <th>1</th>\n",
       "      <td>1</td>\n",
       "      <td>3</td>\n",
       "      <td>4.0</td>\n",
       "      <td>964981247</td>\n",
       "    </tr>\n",
       "    <tr>\n",
       "      <th>2</th>\n",
       "      <td>1</td>\n",
       "      <td>6</td>\n",
       "      <td>4.0</td>\n",
       "      <td>964982224</td>\n",
       "    </tr>\n",
       "    <tr>\n",
       "      <th>3</th>\n",
       "      <td>1</td>\n",
       "      <td>47</td>\n",
       "      <td>5.0</td>\n",
       "      <td>964983815</td>\n",
       "    </tr>\n",
       "    <tr>\n",
       "      <th>4</th>\n",
       "      <td>1</td>\n",
       "      <td>50</td>\n",
       "      <td>5.0</td>\n",
       "      <td>964982931</td>\n",
       "    </tr>\n",
       "  </tbody>\n",
       "</table>\n",
       "</div>"
      ],
      "text/plain": [
       "   userId  movieId  rating  timestamp\n",
       "0       1        1     4.0  964982703\n",
       "1       1        3     4.0  964981247\n",
       "2       1        6     4.0  964982224\n",
       "3       1       47     5.0  964983815\n",
       "4       1       50     5.0  964982931"
      ]
     },
     "execution_count": 5,
     "metadata": {},
     "output_type": "execute_result"
    }
   ],
   "source": [
    "ratings.head()"
   ]
  },
  {
   "cell_type": "code",
   "execution_count": 6,
   "id": "8f3fc2de",
   "metadata": {},
   "outputs": [],
   "source": [
    "rating_dict = {}\n",
    "for i in range(ratings.shape[0]):\n",
    "    line = ratings.loc[i,:]\n",
    "    if line.userId in rating_dict:\n",
    "        rating_dict[line.userId][line.movieId] = line.rating\n",
    "    else:\n",
    "        rating_dict[line.userId] = {line.movieId:line.rating}\n",
    "rating_matrix = pd.DataFrame(rating_dict).T\n",
    "\n",
    "rating_matrix.to_csv(\".././output/rating_matrix.csv\")"
   ]
  },
  {
   "cell_type": "code",
   "execution_count": 190,
   "id": "de62879e",
   "metadata": {
    "scrolled": true
   },
   "outputs": [
    {
     "data": {
      "text/plain": [
       "(610, 9724)"
      ]
     },
     "execution_count": 190,
     "metadata": {},
     "output_type": "execute_result"
    }
   ],
   "source": [
    "df=rating_matrix\n",
    "df.shape #(5,931,640)"
   ]
  },
  {
   "cell_type": "markdown",
   "id": "a04eefd2",
   "metadata": {},
   "source": [
    "### Train Test Split"
   ]
  },
  {
   "cell_type": "markdown",
   "id": "fe24f39e",
   "metadata": {},
   "source": [
    "<img src=\"../figs/table1.png\" width=\"800\" height=\"600\">"
   ]
  },
  {
   "cell_type": "code",
   "execution_count": 278,
   "id": "cc28f717",
   "metadata": {},
   "outputs": [],
   "source": [
    "## select userid:400-610 and movieid:7000-9724 as testing data \n",
    "## so the test dataset is a 210*2724 matrix (572,040)\n",
    "df_train_A=np.array(rating_matrix)\n",
    "df_test=df_train_A[400:,7000:]\n",
    "df_test.shape"
   ]
  },
  {
   "cell_type": "code",
   "execution_count": 279,
   "id": "039877c2",
   "metadata": {
    "scrolled": true
   },
   "outputs": [],
   "source": [
    "## training data\n",
    "df_train=df_train_A.copy()\n",
    "df_train[400:,7000:]=np.nan\n",
    "#df_train=np.array(df_train)"
   ]
  },
  {
   "cell_type": "code",
   "execution_count": 457,
   "id": "a1770426",
   "metadata": {},
   "outputs": [],
   "source": [
    "# data filled na with 0\n",
    "df_train_0=np.array(pd.DataFrame(df_train).replace(np.nan,0))\n",
    "df_test_0=np.array(pd.DataFrame(df_test).replace(np.nan,0))"
   ]
  },
  {
   "cell_type": "code",
   "execution_count": 458,
   "id": "708f59eb",
   "metadata": {},
   "outputs": [
    {
     "data": {
      "text/plain": [
       "9800.5"
      ]
     },
     "execution_count": 458,
     "metadata": {},
     "output_type": "execute_result"
    }
   ],
   "source": [
    "sum(sum(df_test_0)) ##assert that the test set wasn't na"
   ]
  },
  {
   "cell_type": "markdown",
   "id": "c9bda5c4",
   "metadata": {},
   "source": [
    "##  Matrix Factorization-based Algorithm\n",
    "\n",
    "Matrix factorization is a collaborative filtering method to find the relationship between items' and users' entities. The goal of the matrix factorization is to predict rating of user u for item i. \n",
    "\n",
    "\n",
    "$$ argmin \\sum_{(u,i)\\in Z}( R_{ui}-p_{u\\cdot}q_{\\cdot i})^2 $$\n",
    "\n"
   ]
  },
  {
   "cell_type": "markdown",
   "id": "0bee0070",
   "metadata": {},
   "source": [
    "<img src=\"../figs/fig1.jpeg\" width=\"800\" height=\"600\">"
   ]
  },
  {
   "cell_type": "markdown",
   "id": "68be3274",
   "metadata": {},
   "source": [
    "### Implementation 1: Fillin R with 0 and Use Singular Value Decomposition to get P, Q"
   ]
  },
  {
   "cell_type": "code",
   "execution_count": 276,
   "id": "1e3f77d8",
   "metadata": {},
   "outputs": [],
   "source": [
    "def SVD(train, K):\n",
    "    df_fill=np.array(pd.DataFrame(train).replace(np.nan,0))\n",
    "    u,s,v = np.linalg.svd(df_fill,full_matrices=False)\n",
    "    s0 = np.diag(np.sqrt(s))\n",
    "    P_0 = np.dot(u,s0)[:,0:K]\n",
    "    Q_0 = np.dot(s0,v)[0:K,:]\n",
    "    #print(\"svd done\")\n",
    "    return P_0,Q_0"
   ]
  },
  {
   "cell_type": "markdown",
   "id": "0bf33922",
   "metadata": {},
   "source": [
    "### "
   ]
  },
  {
   "cell_type": "markdown",
   "id": "b5450715",
   "metadata": {},
   "source": [
    "### Implementation 2: Matrix Factorization with Penalty"
   ]
  },
  {
   "cell_type": "markdown",
   "id": "0332ff07",
   "metadata": {},
   "source": [
    "\n",
    "\n",
    "$$ argmin \\sum_{(u,i)\\in Z^{nm}}( R_{ui}-p_{u\\cdot}q_{\\cdot i})^2 + \\lambda (||p_{u\\cdot}||^2+||q_{\\cdot i}||^2)$$\n",
    "\n",
    "\n",
    "\n",
    "### Gradient Descent\n",
    "\n",
    "- Initializing P, Q\n",
    "- Update P, Q\n",
    "\n",
    "$$ P \\leftarrow P- \\eta*\\nabla P$$\n",
    "$$ Q \\leftarrow Q- \\eta*\\nabla Q$$\n",
    "\n",
    "update rules:\n",
    "\n",
    "$$ \\nabla P_{u\\cdot}=\\sum_{a}-2\\alpha(R_{ua}-P_{u\\cdot}Q_{\\cdot a})*Q_{u\\cdot}+\\lambda P_{u\\cdot}$$\n",
    "$$ \\nabla Q_{\\cdot i}=\\sum_{b} -2\\alpha(R_{bi}-P_{b\\cdot}Q_{\\cdot i})*P_{bi}+\\lambda Q_{\\cdot i}$$\n",
    "where:\n",
    "$ \\alpha$ is the learning rate, $\\lambda$ is the hyperparameter of the penalizing term\n",
    "\n",
    "- Get $$ \\hat R_{ui}=P_{u\\cdot}Q_{\\cdot i}$$"
   ]
  },
  {
   "cell_type": "code",
   "execution_count": 539,
   "id": "5cfbd8b1",
   "metadata": {
    "scrolled": true
   },
   "outputs": [],
   "source": [
    "def MF_SGD(train,max_iter=1000,lamda=0.00001,K=20,alpha=0.0002):\n",
    "    loss=[]\n",
    "    deltacost=[0]\n",
    "    loss.append(500000)\n",
    "    P = np.random.rand(train.shape[0],K) #P_init\n",
    "    Q = np.random.rand(K,train.shape[1])#Q_init#\n",
    "    for _ in range(max_iter):\n",
    "        for u in range(train.shape[0]):\n",
    "            r = np.nonzero(train[u,:] != 0)[0]\n",
    "            P[u,:]=P[u,:]-2*alpha*(-Q[:,r].dot(train[u,:][r])+Q[:,r].dot(Q[:,r].T).dot(P[u,:])+lamda*P[u,:])\n",
    "        for i in range(train.shape[1]):\n",
    "            r = np.nonzero(train[:,i] != 0)[0]\n",
    "            Q[:,i]=Q[:,i]-2*alpha*(-P[r,:].T.dot(train[:,i][r])+P[r,:].T.dot(P[r,:]).dot(Q[:,i])+lamda*Q[:,i])\n",
    "        cost = 0\n",
    "        predR = np.dot(P,Q)\n",
    "        cost += np.sum((train - predR * (train!=0))**2)\n",
    "        cost += lamda * (np.sum(P**2)+np.sum(Q**2))#(np.linalg.norm(P[u,:])**2 + np.linalg.norm(Q[:,i])**2)\n",
    "        loss.append(cost)\n",
    "        deltaf=(abs(loss[_+1]-loss[_])/loss[_])\n",
    "        deltac=0.5*deltacost[_]+0.5*deltaf\n",
    "        deltacost.append(deltac)\n",
    "        #if _%500 == 0:\n",
    "            #print()\n",
    "            #print(\"num_iter:{},cost:{}\".format(_,cost))\n",
    "            #predData = P.dot(Q)\n",
    "        if (deltac)<0.00001 and _!=0:\n",
    "            #print(\"num_iter:{},cost:{}\".format(_,cost))\n",
    "            break\n",
    "    return P,Q,cost,loss"
   ]
  },
  {
   "cell_type": "markdown",
   "id": "5bd748ac",
   "metadata": {},
   "source": [
    "## Evaluation and Parameters"
   ]
  },
  {
   "cell_type": "code",
   "execution_count": 184,
   "id": "ef1385c9",
   "metadata": {
    "scrolled": true
   },
   "outputs": [],
   "source": [
    "def RMSE(P,Q,test):\n",
    "    ## Input\n",
    "    # P: estimates of user matrix. \n",
    "    # Q: eatimates of movie(item) matrix\n",
    "    # test: test dataset\n",
    "    test_0=np.array(pd.DataFrame(test).replace(np.nan,0))\n",
    "    u=df_train_A.shape[0]-test.shape[0]\n",
    "    i=df_train_A.shape[1]-test.shape[1]\n",
    "    PR=(test_0-np.dot(P[u:,],Q[:,i:]))\n",
    "    mask = 1 - 1*np.isnan(test) #mask matrix to indentify the na of test\n",
    "    rmse=np.sqrt(sum(sum(np.square(mask*PR)))/sum(sum(mask)))\n",
    "    return rmse"
   ]
  },
  {
   "cell_type": "code",
   "execution_count": 516,
   "id": "5fec172c",
   "metadata": {},
   "outputs": [],
   "source": [
    "def rmse_plot(Rmse,names): \n",
    "    x_axis=np.arange(1,13,1)\n",
    "    colors=['skyblue','blue','steelblue']\n",
    "    for i in range(len(Rmse)):\n",
    "        plt.plot(x_axis, Rmse[i],  color=colors[i], label=names[i])\n",
    "    plt.legend() \n",
    "    plt.xlabel('feature numbers: K')\n",
    "    plt.ylabel('RMSE')\n",
    "    plt.show()"
   ]
  },
  {
   "cell_type": "markdown",
   "id": "51273358",
   "metadata": {},
   "source": [
    "### RMSE of MF v.s SVD"
   ]
  },
  {
   "cell_type": "code",
   "execution_count": 503,
   "id": "49ffc5dc",
   "metadata": {},
   "outputs": [
    {
     "name": "stdout",
     "output_type": "stream",
     "text": [
      "[3.2190776837290884, 3.2181814034772334, 3.216611717344716, 3.216189284665354, 3.2155803079263965, 3.2152597943789556, 3.215365229946759, 3.2164388312558936, 3.21574749131929, 3.215723739483833, 3.215889826203359, 3.2162946939482273]\n",
      "[1.976005120084141, 1.5972574794939427, 1.462750786114886, 1.3399593296881098, 1.2783006398379584, 1.231364458499963, 1.2234675876161099, 1.259489764114092, 1.2993979316042485, 1.3323002403342494, 1.362792630938542, 1.4447259772173908]\n"
     ]
    }
   ],
   "source": [
    "## rmse1 : rmse using svd when K=[1,2,3,4,5,6,7,8,9,10,11,12]\n",
    "## rmse2 : rmse using MF-SGD when K=[1,2,3,4,5,6,7,8,9,10,11,12],max_iter=1000,lamda=0.005,alpha=0.0002\n",
    "##\n",
    "#rmse1=[]\n",
    "#for i in range(1,13):\n",
    "#    P_,Q_=SVD(df_train,i)\n",
    "#    rmse1.append(RMSE(P_,Q_,df_test))\n",
    "#print(rmse1)\n",
    "\n",
    "##max_iter=1000\n",
    "##lamda=0.005\n",
    "##K=[1,2,3,4,5,6,7,8,9,10,11,12]\n",
    "#rmse2=[]\n",
    "#for i in range(1,13):\n",
    "#    P,Q,cost,loss = MF_SGD(df_train_0,max_iter=1000,lamda=0.005,K=i,alpha=0.0002)\n",
    "#    rmse2.append(RMSE(P,Q,df_test))\n",
    "#    print(rmse2)"
   ]
  },
  {
   "cell_type": "code",
   "execution_count": 533,
   "id": "80599581",
   "metadata": {},
   "outputs": [
    {
     "data": {
      "image/png": "[encoded data removed]",
      "text/plain": [
       "<Figure size 432x288 with 1 Axes>"
      ]
     },
     "metadata": {
      "needs_background": "light"
     },
     "output_type": "display_data"
    },
    {
     "data": {
      "image/png": "[encoded data removed]",
      "text/plain": [
       "<Figure size 432x288 with 1 Axes>"
      ]
     },
     "metadata": {
      "needs_background": "light"
     },
     "output_type": "display_data"
    }
   ],
   "source": [
    "rmse_plot([rmse1],['SVD'])\n",
    "rmse_plot([rmse2],['MF-SGD'])"
   ]
  },
  {
   "cell_type": "markdown",
   "id": "6ce125f8",
   "metadata": {},
   "source": [
    "### K v.s. iterations"
   ]
  },
  {
   "cell_type": "code",
   "execution_count": 546,
   "id": "f8d30c0e",
   "metadata": {},
   "outputs": [],
   "source": [
    "rmse_df=pd.read_csv('./output/rmse_df.csv')\n",
    "rmse1=rmse_df.rmse1\n",
    "rmse2=rmse_df.rmse2\n",
    "rmse3=rmse_df.rmse3\n",
    "rmse4=rmse_df.rmse4\n",
    "rmse5=rmse_df.rmse5\n",
    "rmse6=rmse_df.rmse6\n",
    "rmse7=rmse_df.rmse7"
   ]
  },
  {
   "cell_type": "code",
   "execution_count": 517,
   "id": "a7d5801e",
   "metadata": {},
   "outputs": [
    {
     "name": "stdout",
     "output_type": "stream",
     "text": [
      "[1.964741617904242, 1.6242170486743868, 1.4710460848169828, 1.3822379375144727, 1.3559645844068484, 1.288470775876769, 1.2660150489402127, 1.3179085517253122, 1.3362044588449273, 1.3923543570943504, 1.475947887741152, 1.519896935803565]\n"
     ]
    }
   ],
   "source": [
    "## rmse2 : rmse using MF-SGD when K=[1,2,3,4,5,6,7,8,9,10,11,12],max_iter=1000,lamda=0.005,alpha=0.0002\n",
    "## rmse3 : rmse using MF-SGD when K=[1,2,3,4,5,6,7,8,9,10,11,12],max_iter=3000,lamda=0.005,alpha=0.0002\n",
    "## \n",
    "## max_iter=3000\n",
    "## lamda=0.005\n",
    "## K=[1,2,3,4,5,6,7,8,9,10,11,12]\n",
    "#rmse3=[]\n",
    "#for i in range(1,16):\n",
    "#    P,Q,cost,loss = MF_SGD(df_train_0,max_iter=3000,lamda=0.005,K=i,alpha=0.0002)\n",
    "#    rmse3.append(RMSE(P,Q,df_test))\n",
    "#    print(rmse3)\n"
   ]
  },
  {
   "cell_type": "code",
   "execution_count": 547,
   "id": "5f9844f8",
   "metadata": {},
   "outputs": [
    {
     "data": {
      "image/png": "[encoded data removed]",
      "text/plain": [
       "<Figure size 432x288 with 1 Axes>"
      ]
     },
     "metadata": {
      "needs_background": "light"
     },
     "output_type": "display_data"
    }
   ],
   "source": [
    "rmse_plot([rmse2,rmse3],['max_iter=1000','max_iter=3000'])"
   ]
  },
  {
   "cell_type": "markdown",
   "id": "3bcabf1f",
   "metadata": {},
   "source": [
    "### K v.s. lambda"
   ]
  },
  {
   "cell_type": "code",
   "execution_count": 520,
   "id": "75aaf3cd",
   "metadata": {},
   "outputs": [
    {
     "name": "stdout",
     "output_type": "stream",
     "text": [
      "[1.943309506745084, 1.9957263212009704, 1.9681401282462112, 1.5971644928695155, 1.6246692211352334, 1.6247086049836326, 1.4702301997014446, 1.4320608591352562, 1.4497943042276977, 1.3237344180049857, 1.3367127147132996, 1.4589539364273865]\n",
      "[1.9687126342863668, 1.6349568092774502, 1.4549864339428642, 1.3411417423702625, 1.2676570900006203, 1.249883750646665, 1.2283117820485843, 1.216571806636367, 1.2764004322745173, 1.3447885520478986, 1.4417056973467697, 1.529808383593084]\n"
     ]
    }
   ],
   "source": [
    "## lambda=[0.0005,0.005,0.01]\n",
    "## rmse2 : rmse using MF-SGD when K=[1,2,3,4,5,6,7,8,9,10,11,12],max_iter=1000,lamda=0.005,alpha=0.0002\n",
    "## rmse4 : rmse using MF-SGD when K=[1,2,3,4,5,6,7,8,9,10,11,12],max_iter=1000,lamda=0.0005,alpha=0.0002\n",
    "## rmse6 : rmse using MF-SGD when K=[1,2,3,4,5,6,7,8,9,10,11,12],max_iter=1000,lamda=0.01,alpha=0.0002\n",
    "\n",
    "## lambda=0.0005\n",
    "## K=[1,2,3,4,5,6,7,8,9,10,11,12]\n",
    "#rmse4=[]\n",
    "#for i in range(1,13):\n",
    "#    P,Q,cost,loss = MF_SGD(df_train_0,max_iter=1000,lamda=0.0005,K=i,alpha=0.0002)\n",
    "#    rmse4.append(RMSE(P,Q,df_test))\n",
    "#    print(rmse4) # MF-SGD lambda=0.0005,K=10,alpha=0.0002\n",
    "\n",
    "## lambda=0.01\n",
    "## K=[1,2,3,4,5,6,7,8,9,10,11,12]\n",
    "#rmse6=[]\n",
    "#for i in range(1,13):\n",
    "#    P,Q,cost,loss = MF_SGD(df_train_0,max_iter=1000,lamda=0.01,K=i,alpha=0.0002)\n",
    "#    rmse6.append(RMSE(P,Q,df_test))\n",
    "#    print(rmse6) # MF-SGD lambda=0.01,K=10,alpha=0.0002\n"
   ]
  },
  {
   "cell_type": "code",
   "execution_count": 521,
   "id": "53c86c5f",
   "metadata": {},
   "outputs": [
    {
     "data": {
      "image/png": "[encoded data removed]",
      "text/plain": [
       "<Figure size 432x288 with 1 Axes>"
      ]
     },
     "metadata": {
      "needs_background": "light"
     },
     "output_type": "display_data"
    }
   ],
   "source": [
    "rmse_plot([rmse2,rmse4,rmse6],['lamda=0.005','lamda=0.0005','lamda=0.01'])"
   ]
  },
  {
   "cell_type": "markdown",
   "id": "fd837f11",
   "metadata": {},
   "source": [
    "### K v.s. alpha"
   ]
  },
  {
   "cell_type": "code",
   "execution_count": 553,
   "id": "57762836",
   "metadata": {
    "scrolled": true
   },
   "outputs": [
    {
     "name": "stdout",
     "output_type": "stream",
     "text": [
      "[2.0089886716188667, 1.6452166802474844, 1.4185397671267217, 1.3249684067053111, 1.2443653518302098, 1.2175810313674242, 1.1608141984738465, 1.1696515428089709, 1.1439236037471872, 1.1585289412008362, 1.1382656327368814, 1.1400295599951464]\n",
      "[2.002450176269635, 1.6179033330905739, 1.4150391530513335, 1.3162703105359288, 1.2664275188394645, 1.225882121227229, 1.1938309030352672, 1.1723165713575763, 1.1576057029808577, 1.1446698571587723, 1.16146078868227, 1.1615930889716053]\n"
     ]
    }
   ],
   "source": [
    "#alpha=[0.00005,0.0001,0.0002]\n",
    "## rmse2 : rmse using MF-SGD when K=[1,2,3,4,5,6,7,8,9,10,11,12],max_iter=1000,lamda=0.005,alpha=0.0002\n",
    "## rmse5 : rmse using MF-SGD when K=[1,2,3,4,5,6,7,8,9,10,11,12],max_iter=1000,lamda=0.005,alpha=0.00005\n",
    "## rmse7 : rmse using MF-SGD when K=[1,2,3,4,5,6,7,8,9,10,11,12],max_iter=1000,lamda=0.005,alpha=0.0001\n",
    "\n",
    "\n",
    "#rmse5=[]\n",
    "#for i in range(1,13):\n",
    "#    P,Q,cost,loss = MF_SGD(df_train_0,max_iter=1000,lamda=0.005,K=i,alpha=0.00005)\n",
    "#    rmse5.append(RMSE(P,Q,df_test))\n",
    "print(rmse5)\n",
    "\n",
    "#rmse6=[]\n",
    "#for i in range(1,13):\n",
    "#    P,Q,cost,loss = MF_SGD(df_train_0,max_iter=1000,lamda=0.005,K=i,alpha=0.0001)\n",
    "#    rmse6.append(RMSE(P,Q,df_test))\n",
    "print(rmse7)"
   ]
  },
  {
   "cell_type": "code",
   "execution_count": 550,
   "id": "62e7d063",
   "metadata": {},
   "outputs": [
    {
     "data": {
      "image/png": "[encoded data removed]",
      "text/plain": [
       "<Figure size 432x288 with 1 Axes>"
      ]
     },
     "metadata": {
      "needs_background": "light"
     },
     "output_type": "display_data"
    }
   ],
   "source": [
    "rmse_plot([rmse2,rmse5,rmse7],['alpha=0.0002','alpha=0.00005','alpha=0.0001'])"
   ]
  },
  {
   "cell_type": "code",
   "execution_count": 549,
   "id": "cc81b833",
   "metadata": {},
   "outputs": [],
   "source": [
    "#store rmse\n",
    "#rmse_df=pd.DataFrame({'rmse1':rmse1,'rmse2':rmse2,'rmse3':rmse3,'rmse4':rmse4,'rmse5':rmse5,'rmse6':rmse6,'rmse7':rmse7})\n",
    "#rmse_df.to_csv('.././output/rmse_df.csv',index=None)"
   ]
  },
  {
   "cell_type": "markdown",
   "id": "8fae5a20",
   "metadata": {},
   "source": [
    "## Application"
   ]
  },
  {
   "cell_type": "code",
   "execution_count": 540,
   "id": "2fe6deeb",
   "metadata": {},
   "outputs": [],
   "source": [
    "P,Q,cost,loss = MF_SGD(df_train_0,max_iter=1000,lamda=0.01,K=8,alpha=0.00005)"
   ]
  },
  {
   "cell_type": "code",
   "execution_count": null,
   "id": "d59a96ca",
   "metadata": {},
   "outputs": [],
   "source": [
    "#pd.DataFrame(P).to_csv('.././output/P.csv')\n",
    "#pd.DataFrame(Q).to_csv('.././output/Q.csv')"
   ]
  },
  {
   "cell_type": "code",
   "execution_count": 541,
   "id": "798c1a93",
   "metadata": {},
   "outputs": [
    {
     "data": {
      "text/plain": [
       "1.164497536702035"
      ]
     },
     "execution_count": 541,
     "metadata": {},
     "output_type": "execute_result"
    }
   ],
   "source": [
    "rmse_final=RMSE(P,Q,df_test)\n",
    "rmse_final"
   ]
  },
  {
   "cell_type": "markdown",
   "id": "99ad5fb2",
   "metadata": {},
   "source": [
    "### Recommendation for Users"
   ]
  },
  {
   "cell_type": "markdown",
   "id": "0ec7250f",
   "metadata": {},
   "source": [
    "Get rating matrix for user u\n",
    "\n",
    "$$\\hat R_{u\\cdot}=P_{u\\cdot}Q_{\\cdot i}$$\n",
    "\n",
    "Filtered the rated movie and sorted the rating "
   ]
  },
  {
   "cell_type": "code",
   "execution_count": 604,
   "id": "682f55fb",
   "metadata": {},
   "outputs": [],
   "source": [
    "def get_movie(movieIndex):\n",
    "    ## input\n",
    "    # movieIndex range(0,9724)\n",
    "    \n",
    "    #Returns\n",
    "    #title of the movie\n",
    "    title=[]\n",
    "    cat=[]\n",
    "    for i in movieIndex:\n",
    "        title.append(movies.iloc[i,1])\n",
    "        cat.append(movies.iloc[i,2])\n",
    "    df=pd.DataFrame({'title':title,'category':cat})\n",
    "    return df"
   ]
  },
  {
   "cell_type": "code",
   "execution_count": 472,
   "id": "b487a1a0",
   "metadata": {},
   "outputs": [],
   "source": [
    "def recommend_topN(M, P, Q, user_id, N = 5):\n",
    "    ## input\n",
    "    # M (n*m matrix) is the rating matrix(fill with 0)\n",
    "    # P, Q \n",
    "    # user_id is the id of user you want to recommend to\n",
    "    # N is the number of movies you want to recommend\n",
    "    \n",
    "    ## Returns\n",
    "    # recommended_movies, is the index of movies you want to recommend to user\n",
    "    M_array = np.array(M)[user_id,:]\n",
    "    \n",
    "    already_seen = []\n",
    "    recommended_movies = []\n",
    "    for i in range(len(M_array)):\n",
    "        if(M_array[i]>0):\n",
    "            already_seen.append(i)\n",
    "    predicted_ratings = np.dot(P[user_id,:],Q)\n",
    "    index = np.argsort(predicted_ratings)\n",
    "    for i in index:\n",
    "        if(i not in already_seen):\n",
    "            recommended_movies.append(i)\n",
    "        if(len(recommended_movies)>=N):\n",
    "            break\n",
    "    return get_movie(recommended_movies)"
   ]
  },
  {
   "cell_type": "markdown",
   "id": "f08bd863",
   "metadata": {},
   "source": [
    "### Movie Example:"
   ]
  },
  {
   "cell_type": "code",
   "execution_count": 605,
   "id": "9f053fa0",
   "metadata": {
    "scrolled": false
   },
   "outputs": [
    {
     "data": {
      "text/html": [
       "<div>\n",
       "<style scoped>\n",
       "    .dataframe tbody tr th:only-of-type {\n",
       "        vertical-align: middle;\n",
       "    }\n",
       "\n",
       "    .dataframe tbody tr th {\n",
       "        vertical-align: top;\n",
       "    }\n",
       "\n",
       "    .dataframe thead th {\n",
       "        text-align: right;\n",
       "    }\n",
       "</style>\n",
       "<table border=\"1\" class=\"dataframe\">\n",
       "  <thead>\n",
       "    <tr style=\"text-align: right;\">\n",
       "      <th></th>\n",
       "      <th>title</th>\n",
       "      <th>category</th>\n",
       "    </tr>\n",
       "  </thead>\n",
       "  <tbody>\n",
       "    <tr>\n",
       "      <th>0</th>\n",
       "      <td>St. Vincent (2014)</td>\n",
       "      <td>Comedy</td>\n",
       "    </tr>\n",
       "    <tr>\n",
       "      <th>1</th>\n",
       "      <td>Robin Hood: Prince of Thieves (1991)</td>\n",
       "      <td>Adventure|Drama</td>\n",
       "    </tr>\n",
       "    <tr>\n",
       "      <th>2</th>\n",
       "      <td>Polar Express, The (2004)</td>\n",
       "      <td>Adventure|Animation|Children|Fantasy|IMAX</td>\n",
       "    </tr>\n",
       "    <tr>\n",
       "      <th>3</th>\n",
       "      <td>Volga - Volga (1938)</td>\n",
       "      <td>Comedy|Musical</td>\n",
       "    </tr>\n",
       "    <tr>\n",
       "      <th>4</th>\n",
       "      <td>Maniac Cop 2 (1990)</td>\n",
       "      <td>Action|Horror|Thriller</td>\n",
       "    </tr>\n",
       "  </tbody>\n",
       "</table>\n",
       "</div>"
      ],
      "text/plain": [
       "                                  title  \\\n",
       "0                    St. Vincent (2014)   \n",
       "1  Robin Hood: Prince of Thieves (1991)   \n",
       "2             Polar Express, The (2004)   \n",
       "3                  Volga - Volga (1938)   \n",
       "4                   Maniac Cop 2 (1990)   \n",
       "\n",
       "                                    category  \n",
       "0                                     Comedy  \n",
       "1                            Adventure|Drama  \n",
       "2  Adventure|Animation|Children|Fantasy|IMAX  \n",
       "3                             Comedy|Musical  \n",
       "4                     Action|Horror|Thriller  "
      ]
     },
     "execution_count": 605,
     "metadata": {},
     "output_type": "execute_result"
    }
   ],
   "source": [
    "\n",
    "recommend_topN(df_train_0, P, Q, user_id=300, N = 5)\n"
   ]
  },
  {
   "cell_type": "code",
   "execution_count": 606,
   "id": "65a88037",
   "metadata": {},
   "outputs": [
    {
     "data": {
      "text/html": [
       "<div>\n",
       "<style scoped>\n",
       "    .dataframe tbody tr th:only-of-type {\n",
       "        vertical-align: middle;\n",
       "    }\n",
       "\n",
       "    .dataframe tbody tr th {\n",
       "        vertical-align: top;\n",
       "    }\n",
       "\n",
       "    .dataframe thead th {\n",
       "        text-align: right;\n",
       "    }\n",
       "</style>\n",
       "<table border=\"1\" class=\"dataframe\">\n",
       "  <thead>\n",
       "    <tr style=\"text-align: right;\">\n",
       "      <th></th>\n",
       "      <th>title</th>\n",
       "      <th>category</th>\n",
       "    </tr>\n",
       "  </thead>\n",
       "  <tbody>\n",
       "    <tr>\n",
       "      <th>0</th>\n",
       "      <td>1051    Crucible, The (1996)\n",
       "2058    Assassina...</td>\n",
       "      <td>1051                    Drama\n",
       "2058    Action|D...</td>\n",
       "    </tr>\n",
       "  </tbody>\n",
       "</table>\n",
       "</div>"
      ],
      "text/plain": [
       "                                               title  \\\n",
       "0  1051    Crucible, The (1996)\n",
       "2058    Assassina...   \n",
       "\n",
       "                                            category  \n",
       "0  1051                    Drama\n",
       "2058    Action|D...  "
      ]
     },
     "execution_count": 606,
     "metadata": {},
     "output_type": "execute_result"
    }
   ],
   "source": [
    "a=df_train_0[300,:]\n",
    "m=(np.where(a==np.max(a)))\n",
    "get_movie(m)"
   ]
  },
  {
   "cell_type": "markdown",
   "id": "22b77b40",
   "metadata": {},
   "source": [
    "### Recommendation Based on Movie Similarity"
   ]
  },
  {
   "cell_type": "code",
   "execution_count": null,
   "id": "d2c49388",
   "metadata": {},
   "outputs": [],
   "source": []
  },
  {
   "cell_type": "code",
   "execution_count": 475,
   "id": "8a1c73d3",
   "metadata": {},
   "outputs": [],
   "source": [
    "def recommend_similar_movies(Q, movie_id, N = 5):\n",
    "    ## input\n",
    "    # P, Q \n",
    "    # movie_id is the index of movie \n",
    "    # N is the number of movies you want to recommend\n",
    "    \n",
    "    ## Returns\n",
    "    # recommended_movies, index of movies you find similar to Q\n",
    "    recommended_movies = []\n",
    "    cos_distances = np.zeros(Q.shape[1])\n",
    "    for i in range(Q.shape[1]):\n",
    "        cos_distances[i] = np.dot(Q[:,movie_id].T, Q[:,i])/(np.linalg.norm(Q[:,movie_id]) * np.linalg.norm(Q[:,i]))\n",
    "    index = np.argsort(cos_distances)\n",
    "    for i in index:\n",
    "        if(i!= movie_id):\n",
    "            recommended_movies.append(i)\n",
    "        if(len(recommended_movies)>=N):\n",
    "            break\n",
    "    return get_movie(recommended_movies)"
   ]
  },
  {
   "cell_type": "markdown",
   "id": "74b8d97e",
   "metadata": {},
   "source": [
    "### Movie Example:"
   ]
  },
  {
   "cell_type": "code",
   "execution_count": 590,
   "id": "ae1ac312",
   "metadata": {
    "scrolled": true
   },
   "outputs": [
    {
     "data": {
      "text/html": [
       "<div>\n",
       "<style scoped>\n",
       "    .dataframe tbody tr th:only-of-type {\n",
       "        vertical-align: middle;\n",
       "    }\n",
       "\n",
       "    .dataframe tbody tr th {\n",
       "        vertical-align: top;\n",
       "    }\n",
       "\n",
       "    .dataframe thead th {\n",
       "        text-align: right;\n",
       "    }\n",
       "</style>\n",
       "<table border=\"1\" class=\"dataframe\">\n",
       "  <thead>\n",
       "    <tr style=\"text-align: right;\">\n",
       "      <th></th>\n",
       "      <th>movieId</th>\n",
       "      <th>title</th>\n",
       "      <th>genres</th>\n",
       "    </tr>\n",
       "  </thead>\n",
       "  <tbody>\n",
       "    <tr>\n",
       "      <th>6347</th>\n",
       "      <td>49274</td>\n",
       "      <td>Happy Feet (2006)</td>\n",
       "      <td>Adventure|Animation|Children|Comedy|IMAX</td>\n",
       "    </tr>\n",
       "    <tr>\n",
       "      <th>7761</th>\n",
       "      <td>91386</td>\n",
       "      <td>Happy Feet Two (2011)</td>\n",
       "      <td>Animation|Children|Comedy|IMAX</td>\n",
       "    </tr>\n",
       "  </tbody>\n",
       "</table>\n",
       "</div>"
      ],
      "text/plain": [
       "      movieId                  title                                    genres\n",
       "6347    49274      Happy Feet (2006)  Adventure|Animation|Children|Comedy|IMAX\n",
       "7761    91386  Happy Feet Two (2011)            Animation|Children|Comedy|IMAX"
      ]
     },
     "execution_count": 590,
     "metadata": {},
     "output_type": "execute_result"
    }
   ],
   "source": [
    "movies[movies.title.str.contains(\"Happy Feet\")]"
   ]
  },
  {
   "cell_type": "code",
   "execution_count": 607,
   "id": "966def6c",
   "metadata": {},
   "outputs": [
    {
     "data": {
      "text/html": [
       "<div>\n",
       "<style scoped>\n",
       "    .dataframe tbody tr th:only-of-type {\n",
       "        vertical-align: middle;\n",
       "    }\n",
       "\n",
       "    .dataframe tbody tr th {\n",
       "        vertical-align: top;\n",
       "    }\n",
       "\n",
       "    .dataframe thead th {\n",
       "        text-align: right;\n",
       "    }\n",
       "</style>\n",
       "<table border=\"1\" class=\"dataframe\">\n",
       "  <thead>\n",
       "    <tr style=\"text-align: right;\">\n",
       "      <th></th>\n",
       "      <th>title</th>\n",
       "      <th>category</th>\n",
       "    </tr>\n",
       "  </thead>\n",
       "  <tbody>\n",
       "    <tr>\n",
       "      <th>0</th>\n",
       "      <td>Forgotten Silver (1996)</td>\n",
       "      <td>Comedy|Documentary</td>\n",
       "    </tr>\n",
       "    <tr>\n",
       "      <th>1</th>\n",
       "      <td>The Hairdresser (2010)</td>\n",
       "      <td>Comedy|Drama</td>\n",
       "    </tr>\n",
       "    <tr>\n",
       "      <th>2</th>\n",
       "      <td>I Am a Sex Addict (2005)</td>\n",
       "      <td>Comedy|Documentary|Romance</td>\n",
       "    </tr>\n",
       "    <tr>\n",
       "      <th>3</th>\n",
       "      <td>Everything You Always Wanted to Know About Sex...</td>\n",
       "      <td>Comedy</td>\n",
       "    </tr>\n",
       "    <tr>\n",
       "      <th>4</th>\n",
       "      <td>Back to the Future Part II (1989)</td>\n",
       "      <td>Adventure|Comedy|Sci-Fi</td>\n",
       "    </tr>\n",
       "    <tr>\n",
       "      <th>5</th>\n",
       "      <td>Manchester by the Sea (2016)</td>\n",
       "      <td>Drama</td>\n",
       "    </tr>\n",
       "    <tr>\n",
       "      <th>6</th>\n",
       "      <td>Invisible Man, The (1933)</td>\n",
       "      <td>Horror|Sci-Fi</td>\n",
       "    </tr>\n",
       "    <tr>\n",
       "      <th>7</th>\n",
       "      <td>All Dogs Christmas Carol, An (1998)</td>\n",
       "      <td>Animation|Children|Comedy|Musical</td>\n",
       "    </tr>\n",
       "    <tr>\n",
       "      <th>8</th>\n",
       "      <td>Jarhead (2005)</td>\n",
       "      <td>Action|Drama|War</td>\n",
       "    </tr>\n",
       "    <tr>\n",
       "      <th>9</th>\n",
       "      <td>2001: A Space Odyssey (1968)</td>\n",
       "      <td>Adventure|Drama|Sci-Fi</td>\n",
       "    </tr>\n",
       "  </tbody>\n",
       "</table>\n",
       "</div>"
      ],
      "text/plain": [
       "                                               title  \\\n",
       "0                            Forgotten Silver (1996)   \n",
       "1                             The Hairdresser (2010)   \n",
       "2                           I Am a Sex Addict (2005)   \n",
       "3  Everything You Always Wanted to Know About Sex...   \n",
       "4                  Back to the Future Part II (1989)   \n",
       "5                       Manchester by the Sea (2016)   \n",
       "6                          Invisible Man, The (1933)   \n",
       "7                All Dogs Christmas Carol, An (1998)   \n",
       "8                                     Jarhead (2005)   \n",
       "9                       2001: A Space Odyssey (1968)   \n",
       "\n",
       "                            category  \n",
       "0                 Comedy|Documentary  \n",
       "1                       Comedy|Drama  \n",
       "2         Comedy|Documentary|Romance  \n",
       "3                             Comedy  \n",
       "4            Adventure|Comedy|Sci-Fi  \n",
       "5                              Drama  \n",
       "6                      Horror|Sci-Fi  \n",
       "7  Animation|Children|Comedy|Musical  \n",
       "8                   Action|Drama|War  \n",
       "9             Adventure|Drama|Sci-Fi  "
      ]
     },
     "execution_count": 607,
     "metadata": {},
     "output_type": "execute_result"
    }
   ],
   "source": [
    "movie_search=movies[movies.title.str.contains(\"Happy Feet\")]\n",
    "movie_id=movie_search.index[0]\n",
    "(movie_search)\n",
    "recommend_similar_movies(Q,movie_id,10)"
   ]
  }
 ],
 "metadata": {
  "kernelspec": {
   "display_name": "ads-cv",
   "language": "python",
   "name": "ads-cv"
  },
  "language_info": {
   "codemirror_mode": {
    "name": "ipython",
    "version": 3
   },
   "file_extension": ".py",
   "mimetype": "text/x-python",
   "name": "python",
   "nbconvert_exporter": "python",
   "pygments_lexer": "ipython3",
   "version": "3.9.10"
  }
 },
 "nbformat": 4,
 "nbformat_minor": 5
}
